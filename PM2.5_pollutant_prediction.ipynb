{
 "cells": [
  {
   "cell_type": "code",
   "execution_count": 108,
   "metadata": {},
   "outputs": [
    {
     "name": "stdout",
     "output_type": "stream",
     "text": [
      "       year  month  day  hour  pm2.5  DEWP  TEMP    PRES cbwd     Iws  Is  Ir\n",
      "0      2010      1    2     0    129   -16  -4.0  1020.0   SE    1.79   0   0\n",
      "1      2010      1    2     1    148   -15  -4.0  1020.0   SE    2.68   0   0\n",
      "2      2010      1    2     2    159   -11  -5.0  1021.0   SE    3.57   0   0\n",
      "3      2010      1    2     3    181    -7  -5.0  1022.0   SE    5.36   1   0\n",
      "4      2010      1    2     4    138    -7  -5.0  1022.0   SE    6.25   2   0\n",
      "5      2010      1    2     5    109    -7  -6.0  1022.0   SE    7.14   3   0\n",
      "6      2010      1    2     6    105    -7  -6.0  1023.0   SE    8.93   4   0\n",
      "7      2010      1    2     7    124    -7  -5.0  1024.0   SE   10.72   0   0\n",
      "8      2010      1    2     8    120    -8  -6.0  1024.0   SE   12.51   0   0\n",
      "9      2010      1    2     9    132    -7  -5.0  1025.0   SE   14.30   0   0\n",
      "10     2010      1    2    10    140    -7  -5.0  1026.0   SE   17.43   1   0\n",
      "11     2010      1    2    11    152    -8  -5.0  1026.0   SE   20.56   0   0\n",
      "12     2010      1    2    12    148    -8  -5.0  1026.0   SE   23.69   0   0\n",
      "13     2010      1    2    13    164    -8  -5.0  1025.0   SE   27.71   0   0\n",
      "14     2010      1    2    14    158    -9  -5.0  1025.0   SE   31.73   0   0\n",
      "15     2010      1    2    15    154    -9  -5.0  1025.0   SE   35.75   0   0\n",
      "16     2010      1    2    16    159    -9  -5.0  1026.0   SE   37.54   0   0\n",
      "17     2010      1    2    17    164    -8  -5.0  1027.0   SE   39.33   0   0\n",
      "18     2010      1    2    18    170    -8  -5.0  1027.0   SE   42.46   0   0\n",
      "19     2010      1    2    19    149    -8  -5.0  1028.0   SE   44.25   0   0\n",
      "20     2010      1    2    20    154    -7  -5.0  1028.0   SE   46.04   0   0\n",
      "21     2010      1    2    21    164    -7  -5.0  1027.0   SE   49.17   1   0\n",
      "22     2010      1    2    22    156    -8  -6.0  1028.0   SE   52.30   2   0\n",
      "23     2010      1    2    23    126    -8  -6.0  1027.0   SE   55.43   3   0\n",
      "24     2010      1    3     0     90    -7  -6.0  1027.0   SE   58.56   4   0\n",
      "25     2010      1    3     1     63    -8  -6.0  1026.0   SE   61.69   5   0\n",
      "26     2010      1    3     2     65    -8  -7.0  1026.0   SE   65.71   6   0\n",
      "27     2010      1    3     3     55    -8  -7.0  1025.0   SE   68.84   7   0\n",
      "28     2010      1    3     4     65    -8  -7.0  1024.0   SE   72.86   8   0\n",
      "29     2010      1    3     5     83    -9  -8.0  1024.0   SE   76.88   9   0\n",
      "...     ...    ...  ...   ...    ...   ...   ...     ...  ...     ...  ..  ..\n",
      "41727  2014     12   30    18     79   -13   2.0  1020.0   NE    3.58   0   0\n",
      "41728  2014     12   30    19     35    -8   6.0  1021.0   NW    5.81   0   0\n",
      "41729  2014     12   30    20     26   -11   5.0  1022.0   NW   12.96   0   0\n",
      "41730  2014     12   30    21     20   -12   4.0  1023.0   NW   21.90   0   0\n",
      "41731  2014     12   30    22      8   -21   2.0  1025.0   NW   31.73   0   0\n",
      "41732  2014     12   30    23     16   -22   0.0  1026.0   NW   38.88   0   0\n",
      "41733  2014     12   31     0     10   -19  -1.0  1027.0   NW   51.84   0   0\n",
      "41734  2014     12   31     1     11   -18  -1.0  1028.0   NW   61.67   0   0\n",
      "41735  2014     12   31     2     20   -17  -1.0  1028.0   NW   70.61   0   0\n",
      "41736  2014     12   31     3      9   -17  -1.0  1029.0   NW   81.79   0   0\n",
      "41737  2014     12   31     4      8   -19  -2.0  1030.0   NW   94.75   0   0\n",
      "41738  2014     12   31     5      9   -21  -3.0  1030.0   NW  109.95   0   0\n",
      "41739  2014     12   31     6      8   -23  -4.0  1032.0   NW  130.07   0   0\n",
      "41740  2014     12   31     7      8   -22  -5.0  1034.0   NW  143.03   0   0\n",
      "41741  2014     12   31     8      8   -22  -5.0  1034.0   NW  150.18   0   0\n",
      "41742  2014     12   31     9      8   -22  -3.0  1034.0   NW  155.99   0   0\n",
      "41743  2014     12   31    10      7   -22  -2.0  1034.0   NW  163.14   0   0\n",
      "41744  2014     12   31    11     12   -22  -2.0  1034.0   NW  170.29   0   0\n",
      "41745  2014     12   31    12     17   -22   0.0  1033.0   NW  177.44   0   0\n",
      "41746  2014     12   31    13     11   -27   0.0  1032.0   NW  186.38   0   0\n",
      "41747  2014     12   31    14      9   -27   1.0  1032.0   NW  196.21   0   0\n",
      "41748  2014     12   31    15     11   -26   1.0  1032.0   NW  205.15   0   0\n",
      "41749  2014     12   31    16      8   -23   0.0  1032.0   NW  214.09   0   0\n",
      "41750  2014     12   31    17      9   -22  -1.0  1033.0   NW  221.24   0   0\n",
      "41751  2014     12   31    18     10   -22  -2.0  1033.0   NW  226.16   0   0\n",
      "41752  2014     12   31    19      8   -23  -2.0  1034.0   NW  231.97   0   0\n",
      "41753  2014     12   31    20     10   -22  -3.0  1034.0   NW  237.78   0   0\n",
      "41754  2014     12   31    21     10   -22  -3.0  1034.0   NW  242.70   0   0\n",
      "41755  2014     12   31    22      8   -22  -4.0  1034.0   NW  246.72   0   0\n",
      "41756  2014     12   31    23     12   -21  -3.0  1034.0   NW  249.85   0   0\n",
      "\n",
      "[41757 rows x 12 columns]\n"
     ]
    }
   ],
   "source": [
    "import numpy as np\n",
    "import pandas as pd\n",
    "import matplotlib.pyplot as plt\n",
    "\n",
    "from sklearn import discriminant_analysis\n",
    "from sklearn import preprocessing\n",
    "from sklearn import decomposition\n",
    "from sklearn import feature_extraction\n",
    "from sklearn import datasets\n",
    "import math\n",
    "\n",
    "# from imblearn.over_sampling import SMOTE\n",
    "\n",
    "from sklearn.preprocessing import Imputer\n",
    "from sklearn.preprocessing import StandardScaler\n",
    "\n",
    "from sklearn.feature_selection import SelectKBest\n",
    "from sklearn.feature_selection import f_classif\n",
    "\n",
    "from sklearn.decomposition import PCA\n",
    "\n",
    "from sklearn.model_selection import KFold\n",
    "from sklearn.model_selection import StratifiedKFold\n",
    "from sklearn.model_selection import train_test_split\n",
    "\n",
    "# from sklearn.svm import SVC\n",
    "# from sklearn.naive_bayes import GaussianNB\n",
    "# from sklearn.ensemble import RandomForestClassifier\n",
    "# from sklearn.linear_model import Perceptron\n",
    "# from sklearn.linear_model import SGDClassifier\n",
    "\n",
    "from sklearn.linear_model import LinearRegression\n",
    "from sklearn.linear_model import Ridge\n",
    "from sklearn.linear_model import Lasso\n",
    "from sklearn.linear_model import SGDRegressor\n",
    "from sklearn.preprocessing import PolynomialFeatures\n",
    "from sklearn.ensemble import RandomForestRegressor\n",
    "from sklearn.svm import SVR\n",
    "\n",
    "# from sklearn.metrics import accuracy_score\n",
    "# from sklearn.metrics import roc_auc_score\n",
    "# from sklearn.metrics import f1_score\n",
    "# from sklearn.metrics import classification_report\n",
    "# from sklearn.metrics import confusion_matrix\n",
    "\n",
    "from sklearn.metrics import mean_absolute_error\n",
    "from sklearn.metrics import explained_variance_score\n",
    "from sklearn.metrics import mean_squared_error\n",
    "from sklearn.metrics import mean_squared_log_error\n",
    "from sklearn.metrics import r2_score\n",
    "\n",
    "#READING RAW DATA\n",
    "my_data=pd.read_csv('new_data.csv',delimiter=',')\n",
    "X= my_data.iloc[:,1:]\n",
    "print(X)\n"
   ]
  },
  {
   "cell_type": "code",
   "execution_count": 115,
   "metadata": {},
   "outputs": [
    {
     "data": {
      "image/png": "[encoded data removed]",
      "text/plain": [
       "<Figure size 360x360 with 1 Axes>"
      ]
     },
     "metadata": {},
     "output_type": "display_data"
    },
    {
     "data": {
      "image/png": "[encoded data removed]",
      "text/plain": [
       "<Figure size 432x288 with 1 Axes>"
      ]
     },
     "metadata": {},
     "output_type": "display_data"
    },
    {
     "data": {
      "image/png": "[encoded data removed]",
      "text/plain": [
       "<Figure size 360x360 with 1 Axes>"
      ]
     },
     "metadata": {},
     "output_type": "display_data"
    },
    {
     "data": {
      "image/png": "[encoded data removed]",
      "text/plain": [
       "<Figure size 432x288 with 1 Axes>"
      ]
     },
     "metadata": {},
     "output_type": "display_data"
    },
    {
     "data": {
      "image/png": "[encoded data removed]",
      "text/plain": [
       "<Figure size 432x288 with 1 Axes>"
      ]
     },
     "metadata": {},
     "output_type": "display_data"
    }
   ],
   "source": [
    "import seaborn as sns\n",
    "sns.catplot(x=\"year\", y=\"pm2.5\", data=X)\n",
    "# sns.catplot(x=\"month\", y=\"pm2.5\", data=X)\n",
    "plt.figure()\n",
    "plt.scatter(x=\"TEMP\", y=\"pm2.5\", data=X)\n",
    "plt.show()\n",
    "sns.catplot(x=\"cbwd\", y=\"pm2.5\", data=X)\n",
    "plt.figure()\n",
    "plt.scatter(x=\"PRES\", y=\"pm2.5\", data=X)\n",
    "plt.show()\n",
    "plt.figure()\n",
    "plt.scatter(x=\"DEWP\", y=\"pm2.5\", data=X)\n",
    "plt.show()"
   ]
  },
  {
   "cell_type": "code",
   "execution_count": 116,
   "metadata": {},
   "outputs": [
    {
     "name": "stderr",
     "output_type": "stream",
     "text": [
      "C:\\Users\\nived\\Anaconda3\\lib\\site-packages\\pandas\\core\\indexing.py:543: SettingWithCopyWarning: \n",
      "A value is trying to be set on a copy of a slice from a DataFrame.\n",
      "Try using .loc[row_indexer,col_indexer] = value instead\n",
      "\n",
      "See the caveats in the documentation: http://pandas.pydata.org/pandas-docs/stable/indexing.html#indexing-view-versus-copy\n",
      "  self.obj[item] = s\n",
      "C:\\Users\\nived\\Anaconda3\\lib\\site-packages\\ipykernel_launcher.py:19: FutureWarning: Method .as_matrix will be removed in a future version. Use .values instead.\n",
      "C:\\Users\\nived\\Anaconda3\\lib\\site-packages\\ipykernel_launcher.py:21: FutureWarning: Method .as_matrix will be removed in a future version. Use .values instead.\n"
     ]
    }
   ],
   "source": [
    "#Identifying Data and Labels\n",
    "data_op = X.iloc[:,4]\n",
    "data = X.iloc[:,[0,1,2,3,5,6,7,8,9,10,11]]\n",
    "\n",
    "#CATEGROICAL TO NUMBERS\n",
    "le = preprocessing.LabelEncoder()\n",
    "for i in range(0,4):    \n",
    "    Y = le.fit_transform(data.iloc[:,i])\n",
    "    data.iloc[:,i] =Y\n",
    "\n",
    "    \n",
    "Y = le.fit_transform(data.iloc[:,7])\n",
    "data.iloc[:,7] =Y\n",
    "# Y = le.fit_transform(X.ix[:,19])\n",
    "# X.ix[:,19] =Y\n",
    "\n",
    "\n",
    "\n",
    "data = data.as_matrix()\n",
    "data = np.array(data)\n",
    "data_op = data_op.as_matrix()\n",
    "data_op = np.array(data_op)\n",
    "\n",
    "#ONE HOT ENCODING OF CATEGORICAL FEATURES\n",
    "ohe = preprocessing.OneHotEncoder(n_values='auto', categorical_features= [0,1,2,3,7],sparse = False,handle_unknown='error')\n",
    "data=ohe.fit_transform(data)\n"
   ]
  },
  {
   "cell_type": "code",
   "execution_count": 117,
   "metadata": {},
   "outputs": [],
   "source": [
    "training_1 , pretraining, training_1_op, pretraining_op = train_test_split(data, data_op, test_size=0.1)\n",
    "training, test, training_op,test_op = train_test_split(training_1,training_1_op,test_size = 0.25)"
   ]
  },
  {
   "cell_type": "code",
   "execution_count": 118,
   "metadata": {},
   "outputs": [
    {
     "name": "stdout",
     "output_type": "stream",
     "text": [
      "(37581, 82)\n",
      "(4176, 82)\n",
      "(28185, 82)\n",
      "(9396, 82)\n",
      "(28185,)\n",
      "(9396,)\n"
     ]
    }
   ],
   "source": [
    "print(np.shape(training_1))\n",
    "print(np.shape(pretraining))\n",
    "# print(np.shape(training_1_op,pretraining_op))\n",
    "print(np.shape(training))\n",
    "print(np.shape(test))\n",
    "print(np.shape(training_op))\n",
    "print(np.shape(test_op))\n"
   ]
  },
  {
   "cell_type": "code",
   "execution_count": 119,
   "metadata": {},
   "outputs": [],
   "source": [
    "#Pretraining Processing\n",
    "pretraining_train, pretraining_test, pretraining_train_op,pretraining_test_op = train_test_split(pretraining,pretraining_op,test_size = 0.1)\n"
   ]
  },
  {
   "cell_type": "code",
   "execution_count": 120,
   "metadata": {},
   "outputs": [
    {
     "name": "stdout",
     "output_type": "stream",
     "text": [
      "(3758, 82)\n"
     ]
    }
   ],
   "source": [
    "# print(pretraining_train[0,:])\n",
    "# print(pretraining_train[1,:])\n",
    "print(np.shape(pretraining_train))"
   ]
  },
  {
   "cell_type": "code",
   "execution_count": 121,
   "metadata": {},
   "outputs": [
    {
     "name": "stdout",
     "output_type": "stream",
     "text": [
      "R2 SCore for Train UnNormalized 0.402168798570797\n",
      "MSE for unprocessed train data:  53.751563851283926\n",
      "R2 SCore for Test UnNormalized 0.37963129318474664\n",
      "MSE for unprocessed test data:  53.656450919557415\n",
      "R2 Score for Train Normalized 0.40219049350777125\n",
      "MSE for normalized data:  53.74337662985631\n",
      "R2 SCore for Test Normalized 0.38061188214099595\n",
      "MSE for normalized data:  53.62324312200957\n"
     ]
    }
   ],
   "source": [
    "#Approach 1: No preprocesing or feature selection\n",
    "lin = LinearRegression()\n",
    "lin.fit(pretraining_train,pretraining_train_op)\n",
    "#TRAIN eval\n",
    "pretraining_train_op_predict = lin.predict(pretraining_train)\n",
    "mse_train_orig = mean_absolute_error(pretraining_train_op,pretraining_train_op_predict)\n",
    "print(\"R2 SCore for Train UnNormalized\",r2_score(pretraining_train_op,pretraining_train_op_predict))\n",
    "print(\"MSE for unprocessed train data: \",mse_train_orig)\n",
    "#Test Eval\n",
    "pretraining_test_op_predict = lin.predict(pretraining_test)\n",
    "mse_test_orig = mean_absolute_error(pretraining_test_op,pretraining_test_op_predict)\n",
    "print(\"R2 SCore for Test UnNormalized\",r2_score(pretraining_test_op,pretraining_test_op_predict))\n",
    "print(\"MSE for unprocessed test data: \",mse_test_orig)\n",
    "\n",
    "\n",
    "#Approach 2: Normalization\n",
    "ss = StandardScaler()\n",
    "pretraining_train_norm = np.copy(pretraining_train)\n",
    "pretraining_test_norm = np.copy(pretraining_test)\n",
    "ss.fit(pretraining_train_norm[:,76:82])\n",
    "Y = ss.transform(pretraining_train_norm[:,76:82])\n",
    "pretraining_train_norm[:,76:82] = Y\n",
    "\n",
    "Y = ss.transform(pretraining_test_norm[:,76:82])\n",
    "pretraining_test_norm[:,76:82] = Y\n",
    "\n",
    "\n",
    "lin.fit(pretraining_train_norm,pretraining_train_op)\n",
    "\n",
    "#train eval\n",
    "pretraining_train_op_predict_norm = lin.predict(pretraining_train_norm)\n",
    "# print(pretraining_train_op_predict_norm)\n",
    "mse_norm = mean_absolute_error(pretraining_train_op,pretraining_train_op_predict_norm)\n",
    "print(\"R2 Score for Train Normalized\",r2_score(pretraining_train_op,pretraining_train_op_predict_norm))\n",
    "print(\"MSE for normalized data: \",mse_norm)\n",
    "#test eval\n",
    "pretraining_test_op_predict_norm = lin.predict(pretraining_test_norm)\n",
    "# print(pretraining_test_op_predict_norm)\n",
    "mse_norm = mean_absolute_error(pretraining_test_op,pretraining_test_op_predict_norm)\n",
    "print(\"R2 SCore for Test Normalized\",r2_score(pretraining_test_op,pretraining_test_op_predict_norm))\n",
    "print(\"MSE for normalized data: \",mse_norm)"
   ]
  },
  {
   "cell_type": "code",
   "execution_count": 122,
   "metadata": {},
   "outputs": [
    {
     "name": "stdout",
     "output_type": "stream",
     "text": [
      "1 \t 69.79257472231185\n",
      "2 \t 68.67745832612066\n",
      "3 \t 68.67755770191566\n",
      "4 \t 67.11993508814649\n",
      "5 \t 66.84296546494174\n",
      "6 \t 65.91495778242049\n",
      "7 \t 64.58403321007232\n",
      "8 \t 64.47221325233753\n",
      "9 \t 62.51821391790343\n",
      "10 \t 62.23738128112749\n",
      "11 \t 62.19175103208495\n",
      "12 \t 59.24464552298909\n",
      "13 \t 58.800528971578046\n",
      "14 \t 58.77718965581127\n",
      "15 \t 58.74001224416877\n",
      "16 \t 58.65928169979774\n",
      "17 \t 58.532601428058776\n",
      "18 \t 58.47508415086015\n",
      "19 \t 58.22479450881057\n",
      "20 \t 58.202366531177596\n",
      "21 \t 58.1514515570929\n",
      "22 \t 58.157004668131556\n",
      "23 \t 58.1428949938279\n",
      "24 \t 58.2571188056702\n",
      "25 \t 58.104891992953014\n",
      "26 \t 58.07814161492237\n",
      "27 \t 57.94455090475217\n",
      "28 \t 57.77237267933838\n",
      "29 \t 58.05121416047009\n",
      "30 \t 57.83514823780503\n",
      "31 \t 58.455597687471645\n",
      "32 \t 58.34105286163217\n",
      "33 \t 57.972416739684675\n",
      "34 \t 58.03606019016946\n",
      "35 \t 58.05609239798929\n",
      "36 \t 58.08539080827561\n",
      "37 \t 58.14454488988737\n",
      "38 \t 58.53227755371041\n",
      "39 \t 58.33103877582733\n",
      "40 \t 58.60311477731788\n",
      "41 \t 58.25667873060102\n",
      "42 \t 58.29385074915016\n",
      "43 \t 58.07540829606914\n",
      "44 \t 58.223414532861106\n",
      "45 \t 57.563730284880144\n",
      "46 \t 58.08917560908322\n",
      "47 \t 57.42875305832727\n",
      "48 \t 57.537286733132426\n",
      "49 \t 57.92775710690551\n",
      "50 \t 57.80669617178431\n",
      "51 \t 57.49187360715491\n",
      "52 \t 57.287543315197766\n",
      "53 \t 56.73102930464255\n",
      "54 \t 57.07742331786024\n",
      "55 \t 57.15275141901414\n",
      "56 \t 57.0614189730854\n",
      "57 \t 56.92126510006884\n",
      "58 \t 56.922238886990144\n",
      "59 \t 56.82531419537229\n",
      "60 \t 57.4959167660703\n",
      "61 \t 56.94847924009485\n",
      "62 \t 57.077076871566774\n",
      "63 \t 56.5509055280324\n",
      "64 \t 56.54429884008425\n",
      "65 \t 56.74513385115815\n",
      "66 \t 56.73518490788336\n",
      "67 \t 56.72581949414927\n",
      "68 \t 56.84984909855599\n",
      "69 \t 56.687323001781564\n",
      "70 \t 56.719600662933146\n",
      "71 \t 56.6813939312327\n",
      "72 \t 56.70686303796452\n",
      "73 \t 56.47963421964519\n",
      "74 \t 56.497663888158534\n",
      "75 \t 54.517804377935775\n",
      "76 \t 54.57405588821416\n",
      "77 \t 53.384412010353536\n",
      "78 \t 53.384412010353536\n",
      "79 \t 59.497220290323234\n",
      "80 \t 59.34450014215891\n",
      "81 \t 61.99817117625558\n",
      "82 \t 59.80784237670497\n"
     ]
    }
   ],
   "source": [
    "#PCA for Pretraining\n",
    "for i in range(1,83):\n",
    "#     print(i)\n",
    "    feat_redn = PCA(n_components = i)\n",
    "    feat_redn.fit(pretraining_train_norm)\n",
    "    pretraining_train_red = feat_redn.transform(pretraining_train_norm)\n",
    "    pretraining_test_red = feat_redn.transform(pretraining_test_norm)\n",
    "\n",
    "\n",
    "    lin.fit(pretraining_train_red,pretraining_train_op)\n",
    "\n",
    "    #train eval\n",
    "\n",
    "    pretraining_train_op_predict_red = lin.predict(pretraining_train_red)\n",
    "    mse_red = mean_absolute_error(pretraining_train_op,pretraining_train_op_predict_red)\n",
    "#     print(\"MSE for PCA train data: \",mse_red)\n",
    "\n",
    "    #test eval\n",
    "    pretraining_test_op_predict_red = lin.predict(pretraining_test_red)\n",
    "    mse_red = mean_absolute_error(pretraining_test_op,pretraining_test_op_predict_red)\n",
    "    print(i,'\\t',mse_red)\n",
    "#     print(\"MSE for PCA test data: \",mse_red)"
   ]
  },
  {
   "cell_type": "code",
   "execution_count": 59,
   "metadata": {},
   "outputs": [
    {
     "name": "stdout",
     "output_type": "stream",
     "text": [
      "MSE for PCA train data:  53.58772976175671\n",
      "MSE for PCA test data:  46.47501431392942\n"
     ]
    }
   ],
   "source": [
    "feat_redn = PCA(n_components = 77)\n",
    "feat_redn.fit(pretraining_train_norm)\n",
    "pretraining_train_red = feat_redn.transform(pretraining_train_norm)\n",
    "pretraining_test_red = feat_redn.transform(pretraining_test_norm)\n",
    "\n",
    "\n",
    "lin.fit(pretraining_train_red,pretraining_train_op)\n",
    "\n",
    "#train eval\n",
    "\n",
    "pretraining_train_op_predict_red = lin.predict(pretraining_train_red)\n",
    "mse_red = mean_absolute_error(pretraining_train_op,pretraining_train_op_predict_red)\n",
    "print(\"MSE for PCA train data: \",mse_red)\n",
    "\n",
    "#test eval\n",
    "pretraining_test_op_predict_red = lin.predict(pretraining_test_red)\n",
    "mse_red = mean_absolute_error(pretraining_test_op,pretraining_test_op_predict_red)\n",
    "print(\"MSE for PCA test data: \",mse_red)"
   ]
  },
  {
   "cell_type": "code",
   "execution_count": 123,
   "metadata": {},
   "outputs": [
    {
     "name": "stdout",
     "output_type": "stream",
     "text": [
      "Linear Regression\n",
      "MSE for PCA train data:  59.95349907643021\n",
      "R2 Score for Train data 0.2870380785145863\n",
      "MSE for PCA test data:  59.80784237670497\n",
      "R2 Score for Test data 0.24370098165338794\n",
      "Ridge Regression\n",
      "MSE for Regression train data:  53.5933733982424\n",
      "R2 Score for Train data 0.402873953709164\n",
      "0.3838438546730166\n",
      "MSE for Ridge Regression test data:  53.30223212514852\n",
      "R2 Score for Test data 0.3838438546730166\n",
      "Lasso Regression\n",
      "MSE for Lasso Regression train data:  56.015829337838895\n",
      "R2 Score for Train data 0.3359184449767866\n",
      "MSE for Lasso Regression test data:  55.00819412662996\n",
      "R2 Score for Test data 0.3292704728543788\n",
      "Random Forest Regression\n",
      "MSE for Decsision Tree train data:  20.445795635976584\n",
      "R2 Score for Train data 0.8890150651713867\n",
      "MSE for Decision tree test data:  50.247368421052634\n",
      "R2 Score for Test data 0.3810941906879758\n",
      "SGD Regressor\n",
      "MSE for SGD train data:  56.21644497076215\n",
      "R2 Score for Train data 0.32798794527867225\n",
      "MSE for SGD test data:  53.9898306630038\n",
      "R2 Score for Test data 0.3198453400251783\n",
      "SVR\n"
     ]
    },
    {
     "name": "stderr",
     "output_type": "stream",
     "text": [
      "C:\\Users\\nived\\Anaconda3\\lib\\site-packages\\sklearn\\linear_model\\stochastic_gradient.py:128: FutureWarning: max_iter and tol parameters have been added in <class 'sklearn.linear_model.stochastic_gradient.SGDRegressor'> in 0.19. If both are left unset, they default to max_iter=5 and tol=None. If tol is not None, max_iter defaults to max_iter=1000. From 0.21, default max_iter will be 1000, and default tol will be 1e-3.\n",
      "  \"and default tol will be 1e-3.\" % type(self), FutureWarning)\n"
     ]
    },
    {
     "name": "stdout",
     "output_type": "stream",
     "text": [
      "MSE for SVR train data:  61.05245867631921\n",
      "R2 Score for Train data -0.009485067918744816\n",
      "MSE for SVR test data:  57.78029654977449\n",
      "R2 Score for Test data 0.03224013840524398\n"
     ]
    }
   ],
   "source": [
    "#Pretraining Classifiers\n",
    "\n",
    "#Linear Regressio\n",
    "print('Linear Regression')\n",
    "lin =LinearRegression()\n",
    "\n",
    "lin.fit(pretraining_train_red,pretraining_train_op)\n",
    "\n",
    "#train eval\n",
    "\n",
    "pretraining_train_op_predict_red = lin.predict(pretraining_train_red)\n",
    "mse_red = mean_absolute_error(pretraining_train_op,pretraining_train_op_predict_red)\n",
    "print(\"MSE for PCA train data: \",mse_red)\n",
    "print(\"R2 Score for Train data\",r2_score(pretraining_train_op,pretraining_train_op_predict_red))\n",
    "\n",
    "#test eval\n",
    "pretraining_test_op_predict_red = lin.predict(pretraining_test_red)\n",
    "mse_red = mean_absolute_error(pretraining_test_op,pretraining_test_op_predict_red)\n",
    "print(\"MSE for PCA test data: \",mse_red)\n",
    "print(\"R2 Score for Test data\",r2_score(pretraining_test_op,pretraining_test_op_predict_red))\n",
    "\n",
    "#Ridge Regression\n",
    "print('Ridge Regression')\n",
    "rid = Ridge()\n",
    "rid.fit(pretraining_train_red,pretraining_train_op)\n",
    "\n",
    "#train eval\n",
    "pretraining_train_op_predict_red = rid.predict(pretraining_train_red)\n",
    "mse_red = mean_absolute_error(pretraining_train_op,pretraining_train_op_predict_red)\n",
    "# print(r2_score(pretraining_train_op,pretraining_train_op_predict_red))\n",
    "print(\"MSE for Regression train data: \",mse_red)\n",
    "print(\"R2 Score for Train data\",r2_score(pretraining_train_op,pretraining_train_op_predict_red))\n",
    "# print(mse_red/(np.sum(np.absolute(pretraining_train_op))))\n",
    "\n",
    "#test eval\n",
    "pretraining_test_op_predict_red = rid.predict(pretraining_test_red)\n",
    "mse_red = mean_absolute_error(pretraining_test_op,pretraining_test_op_predict_red)\n",
    "print(r2_score(pretraining_test_op,pretraining_test_op_predict_red))\n",
    "print(\"MSE for Ridge Regression test data: \",mse_red)\n",
    "print(\"R2 Score for Test data\",r2_score(pretraining_test_op,pretraining_test_op_predict_red))\n",
    "# print(100*mse_red/(np.sum(np.absolute(pretraining_test_op))))\n",
    "\n",
    "#Lasso Regresssion\n",
    "print('Lasso Regression')\n",
    "las = Lasso()\n",
    "las.fit(pretraining_train_red,pretraining_train_op)\n",
    "\n",
    "#train eval\n",
    "pretraining_train_op_predict_red = las.predict(pretraining_train_red)\n",
    "mse_red = mean_absolute_error(pretraining_train_op,pretraining_train_op_predict_red)\n",
    "print(\"MSE for Lasso Regression train data: \",mse_red)\n",
    "print(\"R2 Score for Train data\",r2_score(pretraining_train_op,pretraining_train_op_predict_red))\n",
    "# print(100*mse_red/(np.sum(np.absolute(pretraining_train_op))))\n",
    "\n",
    "#test eval\n",
    "pretraining_test_op_predict_red = las.predict(pretraining_test_red)\n",
    "mse_red = mean_absolute_error(pretraining_test_op,pretraining_test_op_predict_red)\n",
    "print(\"MSE for Lasso Regression test data: \",mse_red)\n",
    "print(\"R2 Score for Test data\",r2_score(pretraining_test_op,pretraining_test_op_predict_red))\n",
    "# print(100*mse_red/(np.sum(np.absolute(pretraining_test_op))))\n",
    "\n",
    "#Decision Tree\n",
    "print('Random Forest Regression')\n",
    "rf = RandomForestRegressor()\n",
    "rf.fit(pretraining_train_red,pretraining_train_op)\n",
    "\n",
    "#train eval\n",
    "pretraining_train_op_predict_red = rf.predict(pretraining_train_red)\n",
    "mse_red = mean_absolute_error(pretraining_train_op,pretraining_train_op_predict_red)\n",
    "print(\"MSE for Decsision Tree train data: \",mse_red)\n",
    "print(\"R2 Score for Train data\",r2_score(pretraining_train_op,pretraining_train_op_predict_red))\n",
    "# print(100*mse_red/(np.sum(np.absolute(pretraining_train_op))))\n",
    "\n",
    "#test eval\n",
    "pretraining_test_op_predict_red = rf.predict(pretraining_test_red)\n",
    "mse_red = mean_absolute_error(pretraining_test_op,pretraining_test_op_predict_red)\n",
    "print(\"MSE for Decision tree test data: \",mse_red)\n",
    "print(\"R2 Score for Test data\",r2_score(pretraining_test_op,pretraining_test_op_predict_red))\n",
    "# print(\"R2 Score for Train data\",r2_score(pretraining_train_op,pretraining_train_op_predict_red))\n",
    "# print(100*mse_red/(np.sum(np.absolute(pretraining_test_op))))\n",
    "\n",
    "#SGD\n",
    "print('SGD Regressor')\n",
    "sgd = SGDRegressor()\n",
    "sgd.fit(pretraining_train_red,pretraining_train_op)\n",
    "\n",
    "#train eval\n",
    "pretraining_train_op_predict_red = sgd.predict(pretraining_train_red)\n",
    "mse_red = mean_absolute_error(pretraining_train_op,pretraining_train_op_predict_red)\n",
    "print(\"MSE for SGD train data: \",mse_red)\n",
    "print(\"R2 Score for Train data\",r2_score(pretraining_train_op,pretraining_train_op_predict_red))\n",
    "# print(100*mse_red/(np.sum(np.absolute(pretraining_train_op))))\n",
    "\n",
    "#test eval\n",
    "pretraining_test_op_predict_red = sgd.predict(pretraining_test_red)\n",
    "mse_red = mean_absolute_error(pretraining_test_op,pretraining_test_op_predict_red)\n",
    "print(\"MSE for SGD test data: \",mse_red)\n",
    "print(\"R2 Score for Test data\",r2_score(pretraining_test_op,pretraining_test_op_predict_red))\n",
    "# print(100*mse_red/(np.sum(np.absolute(pretraining_test_op))))\n",
    "\n",
    "#SVR\n",
    "print('SVR')\n",
    "svr = SVR()\n",
    "svr.fit(pretraining_train_red,pretraining_train_op)\n",
    "\n",
    "#train eval\n",
    "pretraining_train_op_predict_red = svr.predict(pretraining_train_red)\n",
    "mse_red = mean_absolute_error(pretraining_train_op,pretraining_train_op_predict_red)\n",
    "print(\"MSE for SVR train data: \",mse_red)\n",
    "print(\"R2 Score for Train data\",r2_score(pretraining_train_op,pretraining_train_op_predict_red))\n",
    "# print(100*mse_red/(np.sum(np.absolute(pretraining_train_op))))\n",
    "\n",
    "#test eval\n",
    "pretraining_test_op_predict_red = svr.predict(pretraining_test_red)\n",
    "mse_red = mean_absolute_error(pretraining_test_op,pretraining_test_op_predict_red)\n",
    "print(\"MSE for SVR test data: \",mse_red)\n",
    "print(\"R2 Score for Test data\",r2_score(pretraining_test_op,pretraining_test_op_predict_red))\n",
    "# print(100*mse_red/(np.sum(np.absolute(pretraining_test_op))))"
   ]
  },
  {
   "cell_type": "code",
   "execution_count": 152,
   "metadata": {},
   "outputs": [],
   "source": [
    "##TRAINING\n",
    "train, validation, train_op,validation_op = train_test_split(training_1,training_1_op,test_size = 0.2)\n"
   ]
  },
  {
   "cell_type": "code",
   "execution_count": 153,
   "metadata": {},
   "outputs": [
    {
     "name": "stdout",
     "output_type": "stream",
     "text": [
      "(22548, 82)\n",
      "(5637, 82)\n"
     ]
    }
   ],
   "source": [
    "print(np.shape(train))\n",
    "print(np.shape(validation))"
   ]
  },
  {
   "cell_type": "code",
   "execution_count": 154,
   "metadata": {},
   "outputs": [],
   "source": [
    "ss = StandardScaler()\n",
    "ss.fit(train[:,76:82])\n",
    "Y = ss.transform(train[:,76:82])\n",
    "train[:,76:82] = Y\n",
    "\n",
    "Y = ss.transform(validation[:,76:82])\n",
    "validation[:,76:82] = Y\n",
    "\n",
    "feat_redn = PCA(n_components = 77)\n",
    "feat_redn.fit(train)\n",
    "train_red = feat_redn.transform(train)\n",
    "validation_red = feat_redn.transform(validation)\n"
   ]
  },
  {
   "cell_type": "code",
   "execution_count": 155,
   "metadata": {},
   "outputs": [
    {
     "name": "stdout",
     "output_type": "stream",
     "text": [
      "(22548, 82)\n",
      "(22548,)\n"
     ]
    }
   ],
   "source": [
    "print(np.shape(train))\n",
    "print(np.shape(train_op))"
   ]
  },
  {
   "cell_type": "code",
   "execution_count": 159,
   "metadata": {},
   "outputs": [
    {
     "name": "stderr",
     "output_type": "stream",
     "text": [
      "C:\\Users\\nived\\Anaconda3\\lib\\site-packages\\sklearn\\model_selection\\_split.py:605: Warning: The least populated class in y has only 1 members, which is too few. The minimum number of members in any class cannot be less than n_splits=5.\n",
      "  % (min_groups, self.n_splits)), Warning)\n"
     ]
    },
    {
     "data": {
      "image/png": "[encoded data removed]",
      "text/plain": [
       "<Figure size 432x288 with 1 Axes>"
      ]
     },
     "metadata": {},
     "output_type": "display_data"
    },
    {
     "name": "stdout",
     "output_type": "stream",
     "text": [
      "Alpha:  15\n"
     ]
    }
   ],
   "source": [
    "###RIDGE REGRESSION##\n",
    "alpha_val = [0.0001,0.001,0.01,0.1,1,10,15,50,80,100]\n",
    "mean_acc = []\n",
    "\n",
    "for j in range(0,len(alpha_val)):\n",
    "    al = alpha_val[j]\n",
    "    Kfold = StratifiedKFold(n_splits = 5,shuffle = True)\n",
    "    mean = 0\n",
    "    stdv = 0\n",
    "    for train_index,valid_index in Kfold.split(train_red,train_op):\n",
    "        feature_train_cv,feature_valid_cv = train_red[train_index],train_red[valid_index]\n",
    "        op_train_cv,op_valid_cv = train_op[train_index],train_op[valid_index]        \n",
    "        model = Ridge(alpha =al)\n",
    "        model.fit(feature_train_cv,op_train_cv)\n",
    "        op_valid_pred_cv = model.predict(feature_valid_cv)\n",
    "        mse_val = mean_absolute_error(op_valid_cv,op_valid_pred_cv)\n",
    "        mean = mean+mse_val        \n",
    "    mean_acc.append(mean/5)\n",
    "    \n",
    "\n",
    "\n",
    "min_val_error = 100\n",
    "for d in range(0,len(alpha_val)):\n",
    "    if mean_acc[d]<= min_val_error :\n",
    "        min_val_error = mean_acc[d]\n",
    "        al_rid_opt = alpha_val[d]\n",
    "\n",
    "plt.figure()\n",
    "plt.plot(alpha_val,mean_acc)\n",
    "plt.show()\n",
    "\n",
    "print(\"Alpha: \",al_rid_opt)"
   ]
  },
  {
   "cell_type": "code",
   "execution_count": 134,
   "metadata": {},
   "outputs": [
    {
     "name": "stderr",
     "output_type": "stream",
     "text": [
      "C:\\Users\\nived\\Anaconda3\\lib\\site-packages\\sklearn\\model_selection\\_split.py:605: Warning: The least populated class in y has only 1 members, which is too few. The minimum number of members in any class cannot be less than n_splits=5.\n",
      "  % (min_groups, self.n_splits)), Warning)\n"
     ]
    },
    {
     "data": {
      "image/png": "[encoded data removed]",
      "text/plain": [
       "<Figure size 432x288 with 1 Axes>"
      ]
     },
     "metadata": {},
     "output_type": "display_data"
    },
    {
     "name": "stdout",
     "output_type": "stream",
     "text": [
      "Alpha:  0.1\n"
     ]
    }
   ],
   "source": [
    "###LASSO REGRESSION##\n",
    "alpha_val = [0.0001,0.001,0.01,0.1,1]\n",
    "mean_acc = []\n",
    "\n",
    "for j in range(0,len(alpha_val)):\n",
    "    al = alpha_val[j]\n",
    "    Kfold = StratifiedKFold(n_splits = 5,shuffle = True)\n",
    "    mean = 0\n",
    "    stdv = 0\n",
    "    for train_index,valid_index in Kfold.split(train_red,train_op):\n",
    "        feature_train_cv,feature_valid_cv = train_red[train_index],train_red[valid_index]\n",
    "        op_train_cv,op_valid_cv = train_op[train_index],train_op[valid_index]        \n",
    "        model = Lasso(alpha =al)\n",
    "        model.fit(feature_train_cv,op_train_cv)\n",
    "        op_valid_pred_cv = model.predict(feature_valid_cv)\n",
    "        mse_val = mean_absolute_error(op_valid_cv,op_valid_pred_cv)\n",
    "        mean = mean+mse_val        \n",
    "    mean_acc.append(mean/5)\n",
    "    \n",
    "\n",
    "\n",
    "min_val_error = 100\n",
    "for d in range(0,len(alpha_val)):\n",
    "    if mean_acc[d]<= min_val_error :\n",
    "        min_val_error = mean_acc[d]\n",
    "        al_las_opt = alpha_val[d]\n",
    "\n",
    "plt.figure()\n",
    "plt.plot(alpha_val,mean_acc)\n",
    "plt.show()\n",
    "\n",
    "print(\"Alpha: \",al_las_opt)"
   ]
  },
  {
   "cell_type": "code",
   "execution_count": 135,
   "metadata": {},
   "outputs": [
    {
     "name": "stderr",
     "output_type": "stream",
     "text": [
      "C:\\Users\\nived\\Anaconda3\\lib\\site-packages\\sklearn\\model_selection\\_split.py:605: Warning: The least populated class in y has only 1 members, which is too few. The minimum number of members in any class cannot be less than n_splits=5.\n",
      "  % (min_groups, self.n_splits)), Warning)\n",
      "C:\\Users\\nived\\Anaconda3\\lib\\site-packages\\sklearn\\model_selection\\_split.py:605: Warning: The least populated class in y has only 1 members, which is too few. The minimum number of members in any class cannot be less than n_splits=5.\n",
      "  % (min_groups, self.n_splits)), Warning)\n",
      "C:\\Users\\nived\\Anaconda3\\lib\\site-packages\\sklearn\\model_selection\\_split.py:605: Warning: The least populated class in y has only 1 members, which is too few. The minimum number of members in any class cannot be less than n_splits=5.\n",
      "  % (min_groups, self.n_splits)), Warning)\n",
      "C:\\Users\\nived\\Anaconda3\\lib\\site-packages\\sklearn\\model_selection\\_split.py:605: Warning: The least populated class in y has only 1 members, which is too few. The minimum number of members in any class cannot be less than n_splits=5.\n",
      "  % (min_groups, self.n_splits)), Warning)\n",
      "C:\\Users\\nived\\Anaconda3\\lib\\site-packages\\sklearn\\model_selection\\_split.py:605: Warning: The least populated class in y has only 1 members, which is too few. The minimum number of members in any class cannot be less than n_splits=5.\n",
      "  % (min_groups, self.n_splits)), Warning)\n",
      "C:\\Users\\nived\\Anaconda3\\lib\\site-packages\\sklearn\\model_selection\\_split.py:605: Warning: The least populated class in y has only 1 members, which is too few. The minimum number of members in any class cannot be less than n_splits=5.\n",
      "  % (min_groups, self.n_splits)), Warning)\n",
      "C:\\Users\\nived\\Anaconda3\\lib\\site-packages\\sklearn\\model_selection\\_split.py:605: Warning: The least populated class in y has only 1 members, which is too few. The minimum number of members in any class cannot be less than n_splits=5.\n",
      "  % (min_groups, self.n_splits)), Warning)\n",
      "C:\\Users\\nived\\Anaconda3\\lib\\site-packages\\sklearn\\model_selection\\_split.py:605: Warning: The least populated class in y has only 1 members, which is too few. The minimum number of members in any class cannot be less than n_splits=5.\n",
      "  % (min_groups, self.n_splits)), Warning)\n",
      "C:\\Users\\nived\\Anaconda3\\lib\\site-packages\\sklearn\\model_selection\\_split.py:605: Warning: The least populated class in y has only 1 members, which is too few. The minimum number of members in any class cannot be less than n_splits=5.\n",
      "  % (min_groups, self.n_splits)), Warning)\n",
      "C:\\Users\\nived\\Anaconda3\\lib\\site-packages\\sklearn\\model_selection\\_split.py:605: Warning: The least populated class in y has only 1 members, which is too few. The minimum number of members in any class cannot be less than n_splits=5.\n",
      "  % (min_groups, self.n_splits)), Warning)\n",
      "C:\\Users\\nived\\Anaconda3\\lib\\site-packages\\sklearn\\model_selection\\_split.py:605: Warning: The least populated class in y has only 1 members, which is too few. The minimum number of members in any class cannot be less than n_splits=5.\n",
      "  % (min_groups, self.n_splits)), Warning)\n",
      "C:\\Users\\nived\\Anaconda3\\lib\\site-packages\\sklearn\\model_selection\\_split.py:605: Warning: The least populated class in y has only 1 members, which is too few. The minimum number of members in any class cannot be less than n_splits=5.\n",
      "  % (min_groups, self.n_splits)), Warning)\n"
     ]
    },
    {
     "ename": "TypeError",
     "evalue": "list indices must be integers or slices, not tuple",
     "output_type": "error",
     "traceback": [
      "\u001b[1;31m---------------------------------------------------------------------------\u001b[0m",
      "\u001b[1;31mTypeError\u001b[0m                                 Traceback (most recent call last)",
      "\u001b[1;32m<ipython-input-135-a0c04ed3297b>\u001b[0m in \u001b[0;36m<module>\u001b[1;34m()\u001b[0m\n\u001b[0;32m     29\u001b[0m \u001b[1;32mfor\u001b[0m \u001b[0md1\u001b[0m \u001b[1;32min\u001b[0m \u001b[0mrange\u001b[0m\u001b[1;33m(\u001b[0m\u001b[1;36m0\u001b[0m\u001b[1;33m,\u001b[0m\u001b[0mlen\u001b[0m\u001b[1;33m(\u001b[0m\u001b[0mn_estimator\u001b[0m\u001b[1;33m)\u001b[0m\u001b[1;33m)\u001b[0m\u001b[1;33m:\u001b[0m\u001b[1;33m\u001b[0m\u001b[0m\n\u001b[0;32m     30\u001b[0m     \u001b[1;32mfor\u001b[0m \u001b[0md2\u001b[0m \u001b[1;32min\u001b[0m \u001b[0mrange\u001b[0m\u001b[1;33m(\u001b[0m\u001b[1;36m0\u001b[0m\u001b[1;33m,\u001b[0m\u001b[0mlen\u001b[0m\u001b[1;33m(\u001b[0m\u001b[0mdepth\u001b[0m\u001b[1;33m)\u001b[0m\u001b[1;33m)\u001b[0m\u001b[1;33m:\u001b[0m\u001b[1;33m\u001b[0m\u001b[0m\n\u001b[1;32m---> 31\u001b[1;33m         \u001b[1;32mif\u001b[0m \u001b[0mmean_acc\u001b[0m\u001b[1;33m[\u001b[0m\u001b[0md1\u001b[0m\u001b[1;33m,\u001b[0m\u001b[0md2\u001b[0m\u001b[1;33m]\u001b[0m\u001b[1;33m<=\u001b[0m \u001b[0mmin_val_error\u001b[0m \u001b[1;33m:\u001b[0m\u001b[1;33m\u001b[0m\u001b[0m\n\u001b[0m\u001b[0;32m     32\u001b[0m             \u001b[0mmin_val_error\u001b[0m \u001b[1;33m=\u001b[0m \u001b[0mmean_acc\u001b[0m\u001b[1;33m[\u001b[0m\u001b[0md1\u001b[0m\u001b[1;33m,\u001b[0m\u001b[0md2\u001b[0m\u001b[1;33m]\u001b[0m\u001b[1;33m\u001b[0m\u001b[0m\n\u001b[0;32m     33\u001b[0m             \u001b[0mn_est_opt\u001b[0m \u001b[1;33m=\u001b[0m \u001b[0mn_estimator\u001b[0m\u001b[1;33m[\u001b[0m\u001b[0md1\u001b[0m\u001b[1;33m]\u001b[0m\u001b[1;33m\u001b[0m\u001b[0m\n",
      "\u001b[1;31mTypeError\u001b[0m: list indices must be integers or slices, not tuple"
     ]
    }
   ],
   "source": [
    "##Random Forest Regressor\n",
    "\n",
    "\n",
    "n_estimator  = [10,50,80,100]\n",
    "depth = [4,50,None]\n",
    "mean_acc = []\n",
    "\n",
    "for j in range(0,len(n_estimator)):\n",
    "    n_est = n_estimator[j]\n",
    "    mean_acc.append([])\n",
    "    for k in range(0,len(depth)):\n",
    "        dep = depth[k]\n",
    "        Kfold = StratifiedKFold(n_splits = 5,shuffle = True)\n",
    "        mean = 0\n",
    "        stdv = 0\n",
    "        for train_index,valid_index in Kfold.split(train_red,train_op):\n",
    "            feature_train_cv,feature_valid_cv = train_red[train_index],train_red[valid_index]\n",
    "            op_train_cv,op_valid_cv = train_op[train_index],train_op[valid_index]        \n",
    "            model = RandomForestRegressor(n_estimators=n_est, max_depth=dep)\n",
    "            model.fit(feature_train_cv,op_train_cv)\n",
    "            op_valid_pred_cv = model.predict(feature_valid_cv)\n",
    "            mse_val = mean_absolute_error(op_valid_cv,op_valid_pred_cv)\n",
    "            mean = mean+mse_val        \n",
    "        mean_acc[j].append(mean/5)\n",
    "    \n",
    "\n",
    "\n",
    "min_val_error = 100\n",
    "for d1 in range(0,len(n_estimator)):\n",
    "    for d2 in range(0,len(depth)):\n",
    "        if mean_acc[d1,d2]<= min_val_error :\n",
    "            min_val_error = mean_acc[d1,d2]\n",
    "            n_est_opt = n_estimator[d1]\n",
    "            dep_opt = depth[d2]\n",
    "\n",
    "\n",
    "\n",
    "print(\"Number of trees: \",n_est_opt)\n",
    "print(\"Depth: \",dep_opt)"
   ]
  },
  {
   "cell_type": "code",
   "execution_count": 76,
   "metadata": {},
   "outputs": [
    {
     "name": "stdout",
     "output_type": "stream",
     "text": [
      "(22548, 77)\n"
     ]
    }
   ],
   "source": [
    "print(np.shape(train_red))"
   ]
  },
  {
   "cell_type": "code",
   "execution_count": 137,
   "metadata": {},
   "outputs": [],
   "source": [
    "min_val_error = 100\n",
    "for d1 in range(0,len(n_estimator)):\n",
    "    for d2 in range(0,len(depth)):\n",
    "        if mean_acc[d1][d2]<= min_val_error :\n",
    "            min_val_error = mean_acc[d1][d2]\n",
    "            n_est_opt = n_estimator[d1]\n",
    "            dep_opt = depth[d2]\n"
   ]
  },
  {
   "cell_type": "code",
   "execution_count": 138,
   "metadata": {},
   "outputs": [
    {
     "name": "stdout",
     "output_type": "stream",
     "text": [
      "Number of trees:  80\n",
      "Depth:  50\n"
     ]
    }
   ],
   "source": [
    "print(\"Number of trees: \",n_est_opt)\n",
    "print(\"Depth: \",dep_opt)"
   ]
  },
  {
   "cell_type": "code",
   "execution_count": 141,
   "metadata": {},
   "outputs": [
    {
     "name": "stdout",
     "output_type": "stream",
     "text": [
      "[10, 50, 80, 100]\n",
      "[[52.79721374401099, 40.648770954500804, 40.27829172596071], [52.85497737811668, 38.25068940397312, 38.38595363388352], [52.73467546364848, 38.15443378807254, 38.34058180118406], [52.927189334313915, 38.205777257961415, 38.18017547163204]]\n",
      "[4, 50, None]\n"
     ]
    }
   ],
   "source": [
    "print(n_estimator)\n",
    "print(mean_acc)\n",
    "print(depth)\n"
   ]
  },
  {
   "cell_type": "code",
   "execution_count": 142,
   "metadata": {},
   "outputs": [
    {
     "ename": "ValueError",
     "evalue": "shape mismatch: objects cannot be broadcast to a single shape",
     "output_type": "error",
     "traceback": [
      "\u001b[1;31m---------------------------------------------------------------------------\u001b[0m",
      "\u001b[1;31mValueError\u001b[0m                                Traceback (most recent call last)",
      "\u001b[1;32m<ipython-input-142-856de5361403>\u001b[0m in \u001b[0;36m<module>\u001b[1;34m()\u001b[0m\n\u001b[0;32m      4\u001b[0m \u001b[0mfig\u001b[0m \u001b[1;33m=\u001b[0m \u001b[0mplt\u001b[0m\u001b[1;33m.\u001b[0m\u001b[0mfigure\u001b[0m\u001b[1;33m(\u001b[0m\u001b[1;33m)\u001b[0m\u001b[1;33m\u001b[0m\u001b[0m\n\u001b[0;32m      5\u001b[0m \u001b[0max\u001b[0m \u001b[1;33m=\u001b[0m \u001b[0mfig\u001b[0m\u001b[1;33m.\u001b[0m\u001b[0mgca\u001b[0m\u001b[1;33m(\u001b[0m\u001b[0mprojection\u001b[0m\u001b[1;33m=\u001b[0m\u001b[1;34m'3d'\u001b[0m\u001b[1;33m)\u001b[0m\u001b[1;33m\u001b[0m\u001b[0m\n\u001b[1;32m----> 6\u001b[1;33m \u001b[0msurf\u001b[0m \u001b[1;33m=\u001b[0m \u001b[0max\u001b[0m\u001b[1;33m.\u001b[0m\u001b[0mplot_surface\u001b[0m\u001b[1;33m(\u001b[0m\u001b[0mnp\u001b[0m\u001b[1;33m.\u001b[0m\u001b[0marray\u001b[0m\u001b[1;33m(\u001b[0m\u001b[0mn_estimator\u001b[0m\u001b[1;33m)\u001b[0m\u001b[1;33m,\u001b[0m \u001b[0mnp\u001b[0m\u001b[1;33m.\u001b[0m\u001b[0marray\u001b[0m\u001b[1;33m(\u001b[0m\u001b[0mdepth1\u001b[0m\u001b[1;33m)\u001b[0m\u001b[1;33m,\u001b[0m \u001b[0mnp\u001b[0m\u001b[1;33m.\u001b[0m\u001b[0marray\u001b[0m\u001b[1;33m(\u001b[0m\u001b[0mmean_acc\u001b[0m\u001b[1;33m)\u001b[0m\u001b[1;33m)\u001b[0m\u001b[1;33m\u001b[0m\u001b[0m\n\u001b[0m\u001b[0;32m      7\u001b[0m \u001b[1;33m\u001b[0m\u001b[0m\n\u001b[0;32m      8\u001b[0m \u001b[0mplt\u001b[0m\u001b[1;33m.\u001b[0m\u001b[0mshow\u001b[0m\u001b[1;33m(\u001b[0m\u001b[1;33m)\u001b[0m\u001b[1;33m\u001b[0m\u001b[0m\n",
      "\u001b[1;32m~\\Anaconda3\\lib\\site-packages\\mpl_toolkits\\mplot3d\\axes3d.py\u001b[0m in \u001b[0;36mplot_surface\u001b[1;34m(self, X, Y, Z, *args, **kwargs)\u001b[0m\n\u001b[0;32m   1636\u001b[0m             \u001b[1;32mraise\u001b[0m \u001b[0mValueError\u001b[0m\u001b[1;33m(\u001b[0m\u001b[1;34m\"Argument Z must be 2-dimensional.\"\u001b[0m\u001b[1;33m)\u001b[0m\u001b[1;33m\u001b[0m\u001b[0m\n\u001b[0;32m   1637\u001b[0m         \u001b[1;31m# TODO: Support masked arrays\u001b[0m\u001b[1;33m\u001b[0m\u001b[1;33m\u001b[0m\u001b[0m\n\u001b[1;32m-> 1638\u001b[1;33m         \u001b[0mX\u001b[0m\u001b[1;33m,\u001b[0m \u001b[0mY\u001b[0m\u001b[1;33m,\u001b[0m \u001b[0mZ\u001b[0m \u001b[1;33m=\u001b[0m \u001b[0mnp\u001b[0m\u001b[1;33m.\u001b[0m\u001b[0mbroadcast_arrays\u001b[0m\u001b[1;33m(\u001b[0m\u001b[0mX\u001b[0m\u001b[1;33m,\u001b[0m \u001b[0mY\u001b[0m\u001b[1;33m,\u001b[0m \u001b[0mZ\u001b[0m\u001b[1;33m)\u001b[0m\u001b[1;33m\u001b[0m\u001b[0m\n\u001b[0m\u001b[0;32m   1639\u001b[0m         \u001b[0mrows\u001b[0m\u001b[1;33m,\u001b[0m \u001b[0mcols\u001b[0m \u001b[1;33m=\u001b[0m \u001b[0mZ\u001b[0m\u001b[1;33m.\u001b[0m\u001b[0mshape\u001b[0m\u001b[1;33m\u001b[0m\u001b[0m\n\u001b[0;32m   1640\u001b[0m \u001b[1;33m\u001b[0m\u001b[0m\n",
      "\u001b[1;32m~\\Anaconda3\\lib\\site-packages\\numpy\\lib\\stride_tricks.py\u001b[0m in \u001b[0;36mbroadcast_arrays\u001b[1;34m(*args, **kwargs)\u001b[0m\n\u001b[0;32m    250\u001b[0m     \u001b[0margs\u001b[0m \u001b[1;33m=\u001b[0m \u001b[1;33m[\u001b[0m\u001b[0mnp\u001b[0m\u001b[1;33m.\u001b[0m\u001b[0marray\u001b[0m\u001b[1;33m(\u001b[0m\u001b[0m_m\u001b[0m\u001b[1;33m,\u001b[0m \u001b[0mcopy\u001b[0m\u001b[1;33m=\u001b[0m\u001b[1;32mFalse\u001b[0m\u001b[1;33m,\u001b[0m \u001b[0msubok\u001b[0m\u001b[1;33m=\u001b[0m\u001b[0msubok\u001b[0m\u001b[1;33m)\u001b[0m \u001b[1;32mfor\u001b[0m \u001b[0m_m\u001b[0m \u001b[1;32min\u001b[0m \u001b[0margs\u001b[0m\u001b[1;33m]\u001b[0m\u001b[1;33m\u001b[0m\u001b[0m\n\u001b[0;32m    251\u001b[0m \u001b[1;33m\u001b[0m\u001b[0m\n\u001b[1;32m--> 252\u001b[1;33m     \u001b[0mshape\u001b[0m \u001b[1;33m=\u001b[0m \u001b[0m_broadcast_shape\u001b[0m\u001b[1;33m(\u001b[0m\u001b[1;33m*\u001b[0m\u001b[0margs\u001b[0m\u001b[1;33m)\u001b[0m\u001b[1;33m\u001b[0m\u001b[0m\n\u001b[0m\u001b[0;32m    253\u001b[0m \u001b[1;33m\u001b[0m\u001b[0m\n\u001b[0;32m    254\u001b[0m     \u001b[1;32mif\u001b[0m \u001b[0mall\u001b[0m\u001b[1;33m(\u001b[0m\u001b[0marray\u001b[0m\u001b[1;33m.\u001b[0m\u001b[0mshape\u001b[0m \u001b[1;33m==\u001b[0m \u001b[0mshape\u001b[0m \u001b[1;32mfor\u001b[0m \u001b[0marray\u001b[0m \u001b[1;32min\u001b[0m \u001b[0margs\u001b[0m\u001b[1;33m)\u001b[0m\u001b[1;33m:\u001b[0m\u001b[1;33m\u001b[0m\u001b[0m\n",
      "\u001b[1;32m~\\Anaconda3\\lib\\site-packages\\numpy\\lib\\stride_tricks.py\u001b[0m in \u001b[0;36m_broadcast_shape\u001b[1;34m(*args)\u001b[0m\n\u001b[0;32m    185\u001b[0m     \u001b[1;31m# use the old-iterator because np.nditer does not handle size 0 arrays\u001b[0m\u001b[1;33m\u001b[0m\u001b[1;33m\u001b[0m\u001b[0m\n\u001b[0;32m    186\u001b[0m     \u001b[1;31m# consistently\u001b[0m\u001b[1;33m\u001b[0m\u001b[1;33m\u001b[0m\u001b[0m\n\u001b[1;32m--> 187\u001b[1;33m     \u001b[0mb\u001b[0m \u001b[1;33m=\u001b[0m \u001b[0mnp\u001b[0m\u001b[1;33m.\u001b[0m\u001b[0mbroadcast\u001b[0m\u001b[1;33m(\u001b[0m\u001b[1;33m*\u001b[0m\u001b[0margs\u001b[0m\u001b[1;33m[\u001b[0m\u001b[1;33m:\u001b[0m\u001b[1;36m32\u001b[0m\u001b[1;33m]\u001b[0m\u001b[1;33m)\u001b[0m\u001b[1;33m\u001b[0m\u001b[0m\n\u001b[0m\u001b[0;32m    188\u001b[0m     \u001b[1;31m# unfortunately, it cannot handle 32 or more arguments directly\u001b[0m\u001b[1;33m\u001b[0m\u001b[1;33m\u001b[0m\u001b[0m\n\u001b[0;32m    189\u001b[0m     \u001b[1;32mfor\u001b[0m \u001b[0mpos\u001b[0m \u001b[1;32min\u001b[0m \u001b[0mrange\u001b[0m\u001b[1;33m(\u001b[0m\u001b[1;36m32\u001b[0m\u001b[1;33m,\u001b[0m \u001b[0mlen\u001b[0m\u001b[1;33m(\u001b[0m\u001b[0margs\u001b[0m\u001b[1;33m)\u001b[0m\u001b[1;33m,\u001b[0m \u001b[1;36m31\u001b[0m\u001b[1;33m)\u001b[0m\u001b[1;33m:\u001b[0m\u001b[1;33m\u001b[0m\u001b[0m\n",
      "\u001b[1;31mValueError\u001b[0m: shape mismatch: objects cannot be broadcast to a single shape"
     ]
    },
    {
     "data": {
      "image/png": "[encoded data removed]",
      "text/plain": [
       "<Figure size 432x288 with 1 Axes>"
      ]
     },
     "metadata": {},
     "output_type": "display_data"
    }
   ],
   "source": [
    "from mpl_toolkits.mplot3d import Axes3D\n",
    "depth1 = [4,50,100]\n",
    "\n",
    "fig = plt.figure()\n",
    "ax = fig.gca(projection='3d')\n",
    "surf = ax.plot_surface(np.array(n_estimator), np.array(depth1), np.array(mean_acc))\n",
    "\n",
    "plt.show()"
   ]
  },
  {
   "cell_type": "code",
   "execution_count": 163,
   "metadata": {},
   "outputs": [
    {
     "name": "stdout",
     "output_type": "stream",
     "text": [
      "Ridge Regression\n",
      "MSE for Regression train data:  51.07606718021758\n",
      "R2 Score for Train data 0.4085038651012475\n",
      "MSE for Ridge Regression Validation data:  52.167130182753546\n",
      "R2 Score for Validation data 0.41011180859752605\n",
      "Lasso Regression\n",
      "MSE for Regression train data:  51.06149323307085\n",
      "R2 Score for Train data 0.4073143206010845\n",
      "MSE for Ridge Regression Validation data:  52.158445432079446\n",
      "R2 Score for Validation data 0.40874883423045505\n",
      "Random Forest Regression\n",
      "MSE for Regression train data:  13.86652641032464\n",
      "R2 Score for Train data 0.9484812808213915\n",
      "MSE for Ridge Regression test data:  37.40683430902963\n",
      "R2 Score for Test data 0.6584452912897516\n"
     ]
    }
   ],
   "source": [
    "##Evaluate on Validation Set\n",
    "\n",
    "#Ridge Regression\n",
    "print('Ridge Regression')\n",
    "rid = Ridge(alpha = al_rid_opt)\n",
    "rid.fit(train_red,train_op)\n",
    "\n",
    "#train eval\n",
    "train_op_predict_rid = rid.predict(train_red)\n",
    "mse_train = mean_absolute_error(train_op,train_op_predict_rid)\n",
    "# print(r2_score(pretraining_train_op,pretraining_train_op_predict_red))\n",
    "print(\"MSE for Regression train data: \",mse_train)\n",
    "print(\"R2 Score for Train data\",r2_score(train_op,train_op_predict_rid))\n",
    "# print(mse_red/(np.sum(np.absolute(pretraining_train_op))))\n",
    "\n",
    "#test eval\n",
    "validation_op_predict_rid = rid.predict(validation_red)\n",
    "mse_val = mean_absolute_error(validation_op,validation_op_predict_rid)\n",
    "print(\"MSE for Ridge Regression Validation data: \",mse_val)\n",
    "print(\"R2 Score for Validation data\",r2_score(validation_op,validation_op_predict_rid))\n",
    "\n",
    "\n",
    "#Lasso Regresssion\n",
    "print('Lasso Regression')\n",
    "las = Lasso(alpha = al_las_opt)\n",
    "las.fit(train_red,train_op)\n",
    "\n",
    "#train eval\n",
    "train_op_predict_las = las.predict(train_red)\n",
    "mse_train = mean_absolute_error(train_op,train_op_predict_las)\n",
    "# print(r2_score(pretraining_train_op,pretraining_train_op_predict_red))\n",
    "print(\"MSE for Regression train data: \",mse_train)\n",
    "print(\"R2 Score for Train data\",r2_score(train_op,train_op_predict_las))\n",
    "# print(mse_red/(np.sum(np.absolute(pretraining_train_op))))\n",
    "\n",
    "#test eval\n",
    "validation_op_predict_las = las.predict(validation_red)\n",
    "mse_val = mean_absolute_error(validation_op,validation_op_predict_las)\n",
    "print(\"MSE for Ridge Regression Validation data: \",mse_val)\n",
    "print(\"R2 Score for Validation data\",r2_score(validation_op,validation_op_predict_las))\n",
    "\n",
    "#Decision Tree\n",
    "print('Random Forest Regression')\n",
    "rf = RandomForestRegressor(n_estimators=n_est_opt, max_depth=dep_opt)\n",
    "rf.fit(train_red,train_op)\n",
    "\n",
    "#train eval\n",
    "train_op_predict_rf = rf.predict(train_red)\n",
    "mse_train = mean_absolute_error(train_op,train_op_predict_rf)\n",
    "# print(r2_score(pretraining_train_op,pretraining_train_op_predict_red))\n",
    "print(\"MSE for Regression train data: \",mse_train)\n",
    "print(\"R2 Score for Train data\",r2_score(train_op,train_op_predict_rf))\n",
    "# print(mse_red/(np.sum(np.absolute(pretraining_train_op))))\n",
    "\n",
    "#test eval\n",
    "validation_op_predict_rf = rf.predict(validation_red)\n",
    "mse_val = mean_absolute_error(validation_op,validation_op_predict_rf)\n",
    "print(\"MSE for Ridge Regression test data: \",mse_val)\n",
    "print(\"R2 Score for Test data\",r2_score(validation_op,validation_op_predict_rf))"
   ]
  },
  {
   "cell_type": "code",
   "execution_count": null,
   "metadata": {},
   "outputs": [],
   "source": [
    "##PLOTS\n",
    "feat_redn = PCA(n_components = 2)\n",
    "feat_redn.fit(train)\n",
    "train_red = feat_redn.transform(train)\n",
    "validation_red = feat_redn.transform(validation)"
   ]
  },
  {
   "cell_type": "code",
   "execution_count": 180,
   "metadata": {
    "scrolled": true
   },
   "outputs": [
    {
     "data": {
      "text/plain": [
       "<mpl_toolkits.mplot3d.art3d.Path3DCollection at 0x1ef0ede24a8>"
      ]
     },
     "execution_count": 180,
     "metadata": {},
     "output_type": "execute_result"
    },
    {
     "data": {
      "image/png": "[encoded data removed]",
      "text/plain": [
       "<Figure size 432x288 with 1 Axes>"
      ]
     },
     "metadata": {},
     "output_type": "display_data"
    }
   ],
   "source": [
    "import matplotlib.pyplot as plt\n",
    "from mpl_toolkits.mplot3d import Axes3D\n",
    "fig = plt.figure()\n",
    "ax = plt.axes(projection='3d')\n",
    "ax.scatter(validation_red[:20,0],validation_red[:20,1],validation_op[:20])\n",
    "ax.scatter(validation_red[:20,0],validation_red[:20,1],validation_op_predict_rf[:20])\n",
    "\n",
    "# fig = plt.figure()\n",
    "# ax = fig.gca(projection='3d')\n",
    "# surf = ax.plot_surface(np.array(n_estimator), np.array(depth1), np.array(mean_acc))\n",
    "\n",
    "# plt.show()"
   ]
  },
  {
   "cell_type": "code",
   "execution_count": 181,
   "metadata": {},
   "outputs": [],
   "source": [
    "#Training\n",
    "ss = StandardScaler()\n",
    "ss.fit(training[:,76:82])\n",
    "Y = ss.transform(training[:,76:82])\n",
    "training[:,76:82] = Y\n",
    "\n",
    "Y = ss.transform(test[:,76:82])\n",
    "test[:,76:82] = Y\n",
    "\n",
    "feat_redn = PCA(n_components = 77)\n",
    "feat_redn.fit(training)\n",
    "training_red = feat_redn.transform(training)\n",
    "test_red = feat_redn.transform(test)\n"
   ]
  },
  {
   "cell_type": "code",
   "execution_count": 182,
   "metadata": {},
   "outputs": [
    {
     "name": "stdout",
     "output_type": "stream",
     "text": [
      "Random Forest Regression\n",
      "MSE for Random Forest train data:  12.80949624852602\n",
      "R2 Score for Train data 0.9557766531580406\n",
      "MSE for Random Forest test data:  34.31413750845166\n",
      "R2 Score for Test data 0.6915257856371229\n"
     ]
    }
   ],
   "source": [
    "#Decision Tree\n",
    "print('Random Forest Regression')\n",
    "rf = RandomForestRegressor(n_estimators=n_est_opt, max_depth=dep_opt)\n",
    "rf.fit(training_red,training_op)\n",
    "\n",
    "#train eval\n",
    "training_op_predict_rf = rf.predict(training_red)\n",
    "mse_training = mean_absolute_error(training_op,training_op_predict_rf)\n",
    "# print(r2_score(pretraining_train_op,pretraining_train_op_predict_red))\n",
    "print(\"MSE for Random Forest train data: \",mse_training)\n",
    "print(\"R2 Score for Train data\",r2_score(training_op,training_op_predict_rf))\n",
    "# print(mse_red/(np.sum(np.absolute(pretraining_train_op))))\n",
    "\n",
    "#test eval\n",
    "test_op_predict_rf = rf.predict(test_red)\n",
    "mse_test = mean_absolute_error(test_op,test_op_predict_rf)\n",
    "print(\"MSE for Random Forest test data: \",mse_test)\n",
    "print(\"R2 Score for Test data\",r2_score(test_op,test_op_predict_rf))"
   ]
  },
  {
   "cell_type": "code",
   "execution_count": 88,
   "metadata": {},
   "outputs": [],
   "source": [
    "#Complexity Analysis fro Ridge Regression\n",
    "from sklearn.utils import resample\n",
    "rid = Ridge(alpha =al_opt)\n",
    "\n",
    "W=[]\n",
    "for i in range(0,1000):\n",
    "    data,data_op = resample(training_red,training_op,replace=False)\n",
    "    rid.fit(data,data_op)\n",
    "    data_op_predict = rid.predict(data)\n",
    "    wc = rid.coef_\n",
    "    w0 = rid.intercept_\n",
    "    w = np.append(w0,wc)\n",
    "    W.append(w)\n",
    "wmean = np.mean(W,axis=0)\n",
    "Eout_arr=[]\n",
    "i_index=0\n",
    "for i in training_red:\n",
    "    x = np.append(1,i)\n",
    "    hg_mean = np.dot(x,wmean)\n",
    "    eout_x = []\n",
    "    for j in W:\n",
    "        eout_x.append(abs((np.dot(j,x))-training_op[i_index]))\n",
    "    Eout_arr.append(np.mean(eout_x))\n",
    "    i_index+=1\n",
    "Eout = np.mean(Eout_arr)\n",
    "print(\"Eout: \",Eout)"
   ]
  },
  {
   "cell_type": "code",
   "execution_count": null,
   "metadata": {},
   "outputs": [],
   "source": [
    "#Complexity Analysis for Lasso Regression\n",
    "las = Lasso(alpha =al_opt)\n",
    "\n",
    "W=[]\n",
    "for i in range(0,1000):\n",
    "    data,data_op = resample(training_red,training_op,replace=False)\n",
    "    las.fit(data,data_op)\n",
    "    data_op_predict = las.predict(data)\n",
    "    wc = las.coef_\n",
    "    w0 = las.intercept_\n",
    "    w = np.append(w0,wc)\n",
    "    W.append(w)\n",
    "wmean = np.mean(W,axis=0)\n",
    "Eout_arr=[]\n",
    "i_index=0\n",
    "for i in training_red:\n",
    "    x = np.append(1,i)\n",
    "    hg_mean = np.dot(x,wmean)\n",
    "    eout_x = []\n",
    "    for j in W:\n",
    "        eout_x.append(abs((np.dot(j,x))-training_op[i_index]))\n",
    "    Eout_arr.append(np.mean(eout_x))\n",
    "    i_index+=1\n",
    "Eout = np.mean(Eout_arr)\n",
    "print(\"Eout: \",Eout)"
   ]
  },
  {
   "cell_type": "code",
   "execution_count": 90,
   "metadata": {},
   "outputs": [
    {
     "name": "stdout",
     "output_type": "stream",
     "text": [
      "Eout:  51.35216856762374\n"
     ]
    }
   ],
   "source": [
    "#Complexity Analysis for Random Forest\n",
    "rid = Ridge(alpha =al_opt)\n",
    "\n",
    "W=[]\n",
    "for i in range(0,1000):\n",
    "    data,data_op = resample(training_red,training_op,replace=False)\n",
    "    rid.fit(data,data_op)\n",
    "    data_op_predict = rid.predict(data)\n",
    "    wc = rid.coef_\n",
    "    w0 = rid.intercept_\n",
    "    w = np.append(w0,wc)\n",
    "    W.append(w)\n",
    "wmean = np.mean(W,axis=0)\n",
    "Eout_arr=[]\n",
    "i_index=0\n",
    "for i in training_red:\n",
    "    x = np.append(1,i)\n",
    "    hg_mean = np.dot(x,wmean)\n",
    "    eout_x = []\n",
    "    for j in W:\n",
    "        eout_x.append(abs((np.dot(j,x))-training_op[i_index]))\n",
    "    Eout_arr.append(np.mean(eout_x))\n",
    "    i_index+=1\n",
    "Eout = np.mean(Eout_arr)\n",
    "print(\"Eout: \",Eout)\n"
   ]
  },
  {
   "cell_type": "code",
   "execution_count": null,
   "metadata": {},
   "outputs": [],
   "source": []
  }
 ],
 "metadata": {
  "kernelspec": {
   "display_name": "Python 3",
   "language": "python",
   "name": "python3"
  },
  "language_info": {
   "codemirror_mode": {
    "name": "ipython",
    "version": 3
   },
   "file_extension": ".py",
   "mimetype": "text/x-python",
   "name": "python",
   "nbconvert_exporter": "python",
   "pygments_lexer": "ipython3",
   "version": "3.6.5"
  }
 },
 "nbformat": 4,
 "nbformat_minor": 2
}
